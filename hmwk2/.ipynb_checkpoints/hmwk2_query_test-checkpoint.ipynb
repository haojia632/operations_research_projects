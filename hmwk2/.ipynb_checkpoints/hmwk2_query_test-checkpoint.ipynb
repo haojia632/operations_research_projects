{
 "cells": [
  {
   "cell_type": "code",
   "execution_count": 1,
   "metadata": {
    "collapsed": true
   },
   "outputs": [],
   "source": [
    "from geopy.distance import vincenty\n",
    "import sqlite3\n",
    "import pandas\n",
    "\n",
    "def calculate_distance(lat1, lon1, lat2, lon2):\n",
    "    point1 = (lat1, lon1)\n",
    "    point2 = (lat2, lon2)\n",
    "    return vincenty(point1, point2).miles\n",
    "\n",
    "\n",
    "conn = sqlite3.connect('database2.db')\n",
    "conn.create_function(\"calculate_distance\", 4, calculate_distance)\n",
    "cursor = conn.cursor()\n",
    "\n",
    "cursor.execute('''SELECT\n",
    "     Nearby.storeNumber AS storeNumber,\n",
    "     calculate_distance(Nearby.latitude, Nearby.longitude, NY.latitude, NY.longitude) AS distance\n",
    " FROM\n",
    "     McDonaldsLocations AS Nearby,\n",
    "     McDonaldsLocations AS NY\n",
    " WHERE\n",
    "     Nearby.state IN ('PA', 'NJ', 'CT', 'RI', 'MA', 'NH', 'VT', 'OH', 'MD', 'DE')\n",
    "         AND\n",
    "     NY.state = 'NY'\n",
    "\n",
    "''')\n",
    "\n",
    "results = cursor.fetchall()"
   ]
  },
  {
   "cell_type": "code",
   "execution_count": 17,
   "metadata": {
    "collapsed": false
   },
   "outputs": [
    {
     "data": {
      "text/plain": [
       "2096211"
      ]
     },
     "execution_count": 17,
     "metadata": {},
     "output_type": "execute_result"
    }
   ],
   "source": [
    "workingResults = results\n",
    "len(workingResults)"
   ]
  },
  {
   "cell_type": "code",
   "execution_count": 19,
   "metadata": {
    "collapsed": false
   },
   "outputs": [
    {
     "name": "stdout",
     "output_type": "stream",
     "text": [
      "2733\n"
     ]
    }
   ],
   "source": [
    "uniqueStoreNumbers = set(row[0] for row in results)\n",
    "print len (uniqueStoreNumbers)"
   ]
  },
  {
   "cell_type": "code",
   "execution_count": null,
   "metadata": {
    "collapsed": true
   },
   "outputs": [],
   "source": [
    "for x, y in [(x,y) for x[0] in uniqueStoreNumbers for y[0] in workingResults]:\n",
    "    print x, y"
   ]
  },
  {
   "cell_type": "code",
   "execution_count": 9,
   "metadata": {
    "collapsed": true
   },
   "outputs": [],
   "source": [
    "#### John solution\n",
    "\n",
    "#dictionary of storeNumbers = {}\n",
    "\n",
    "store_distances = {}\n",
    "for row in workingResults:\n",
    "    if row[0] in store_distances:\n",
    "        store_distances[row[0]].extend(row[1:])\n",
    "    else:\n",
    "        store_distances[row[0]] = [row[1]]\n"
   ]
  },
  {
   "cell_type": "code",
   "execution_count": 6,
   "metadata": {
    "collapsed": false
   },
   "outputs": [
    {
     "name": "stdout",
     "output_type": "stream",
     "text": [
      "2733\n"
     ]
    }
   ],
   "source": [
    "# get list of unique IDs\n",
    "uniqueStoreNumbers = set(row[0] for row in workingResults)\n",
    "\n",
    "print len(uniqueStoreNumbers)"
   ]
  },
  {
   "cell_type": "code",
   "execution_count": 7,
   "metadata": {
    "collapsed": true
   },
   "outputs": [],
   "source": [
    "allLessThan100 =[] #save store where ALL distances from NY stores is less than or equal to 100"
   ]
  },
  {
   "cell_type": "code",
   "execution_count": 8,
   "metadata": {
    "collapsed": false
   },
   "outputs": [],
   "source": [
    "#go through each id\n",
    "    #for id in uniqueIDs:\n",
    "       #go through all out distances workingResults[1] where workingResults[1] = id\n",
    "           #if workingResults[1] >100:\n",
    "              #next\n",
    "        #save uniqueID in allLessThan100 list\n",
    "\n"
   ]
  }
 ],
 "metadata": {
  "kernelspec": {
   "display_name": "Python 2",
   "language": "python",
   "name": "python2"
  },
  "language_info": {
   "codemirror_mode": {
    "name": "ipython",
    "version": 2
   },
   "file_extension": ".py",
   "mimetype": "text/x-python",
   "name": "python",
   "nbconvert_exporter": "python",
   "pygments_lexer": "ipython2",
   "version": "2.7.13"
  }
 },
 "nbformat": 4,
 "nbformat_minor": 0
}
