{
 "cells": [
  {
   "cell_type": "code",
   "execution_count": 48,
   "metadata": {
    "collapsed": true
   },
   "outputs": [],
   "source": [
    "from geopy.distance import vincenty\n",
    "import sqlite3\n",
    "from googlemaps import convert\n",
    "from googlemaps.convert import as_list\n",
    "\n",
    "\n",
    "def calculate_distance(lat1, lon1, lat2, lon2):\n",
    "    point1 = (lat1, lon1)\n",
    "    point2 = (lat2, lon2)\n",
    "    return vincenty(point1, point2).miles\n",
    "\n",
    "\n",
    "conn = sqlite3.connect('database2.db')\n",
    "conn.create_function(\"calculate_distance\", 4, calculate_distance)\n",
    "cursor = conn.cursor()\n",
    "\n",
    "cursor.execute('''\n",
    " SELECT A.storeNumber\n",
    " FROM (\n",
    " SELECT\n",
    "     Nearby.storeNumber AS storeNumber,\n",
    "     calculate_distance(Nearby.latitude, Nearby.longitude, NY.latitude, NY.longitude) AS distance\n",
    " FROM\n",
    "     McDonaldsLocations AS Nearby,\n",
    "     McDonaldsLocations AS NY\n",
    " WHERE\n",
    "     Nearby.state IN ('PA', 'NY', 'NJ', 'CT', 'RI', 'MA', 'NH', 'VT', 'OH', 'MD', 'DE')\n",
    "         AND\n",
    "     NY.state = 'NY'\n",
    " ) AS A\n",
    " GROUP BY A.storeNumber\n",
    " HAVING Max(A.distance) <= 100;\n",
    "\n",
    "''')\n",
    "\n",
    "results = cursor.fetchall()\n",
    "        \n",
    "for row in results:\n",
    "    print row "
   ]
  },
  {
   "cell_type": "code",
   "execution_count": 17,
   "metadata": {
    "collapsed": false
   },
   "outputs": [
    {
     "data": {
      "text/plain": [
       "2096211"
      ]
     },
     "execution_count": 17,
     "metadata": {},
     "output_type": "execute_result"
    }
   ],
   "source": [
    "workingResults = results\n",
    "len(workingResults)"
   ]
  },
  {
   "cell_type": "code",
   "execution_count": 45,
   "metadata": {
    "collapsed": false
   },
   "outputs": [
    {
     "name": "stdout",
     "output_type": "stream",
     "text": [
      "2733\n"
     ]
    }
   ],
   "source": [
    "uniqueStoreNumbers = set(row[0] for row in results)\n",
    "print len(uniqueStoreNumbers)"
   ]
  },
  {
   "cell_type": "code",
   "execution_count": 47,
   "metadata": {
    "collapsed": false
   },
   "outputs": [
    {
     "ename": "SyntaxError",
     "evalue": "unexpected EOF while parsing (<ipython-input-47-9aa5b3ff52c5>, line 1)",
     "output_type": "error",
     "traceback": [
      "\u001b[0;36m  File \u001b[0;32m\"<ipython-input-47-9aa5b3ff52c5>\"\u001b[0;36m, line \u001b[0;32m1\u001b[0m\n\u001b[0;31m    for x in workingResults:\u001b[0m\n\u001b[0m                            ^\u001b[0m\n\u001b[0;31mSyntaxError\u001b[0m\u001b[0;31m:\u001b[0m unexpected EOF while parsing\n"
     ]
    }
   ],
   "source": [
    "for x in workingResults:\n",
    "    "
   ]
  },
  {
   "cell_type": "code",
   "execution_count": 46,
   "metadata": {
    "collapsed": false
   },
   "outputs": [
    {
     "ename": "TypeError",
     "evalue": "'tuple' object does not support item assignment",
     "output_type": "error",
     "traceback": [
      "\u001b[0;31m---------------------------------------------------------------------------\u001b[0m",
      "\u001b[0;31mTypeError\u001b[0m                                 Traceback (most recent call last)",
      "\u001b[0;32m<ipython-input-46-37b757961558>\u001b[0m in \u001b[0;36m<module>\u001b[0;34m()\u001b[0m\n\u001b[0;32m----> 1\u001b[0;31m \u001b[0;34m[\u001b[0m\u001b[0;34m(\u001b[0m\u001b[0mx\u001b[0m\u001b[0;34m,\u001b[0m \u001b[0my\u001b[0m\u001b[0;34m)\u001b[0m \u001b[0;32mfor\u001b[0m \u001b[0mx\u001b[0m \u001b[0;32min\u001b[0m \u001b[0muniqueStoreNumbers\u001b[0m \u001b[0;32mfor\u001b[0m \u001b[0my\u001b[0m\u001b[0;34m[\u001b[0m\u001b[0;36m0\u001b[0m\u001b[0;34m]\u001b[0m \u001b[0;32min\u001b[0m \u001b[0mworkingResults\u001b[0m \u001b[0;32mif\u001b[0m \u001b[0mx\u001b[0m \u001b[0;34m!=\u001b[0m \u001b[0my\u001b[0m\u001b[0;34m]\u001b[0m\u001b[0;34m\u001b[0m\u001b[0m\n\u001b[0m",
      "\u001b[0;31mTypeError\u001b[0m: 'tuple' object does not support item assignment"
     ]
    }
   ],
   "source": [
    "[(x, y) for x in uniqueStoreNumbers for y[0] in workingResults if x != y]"
   ]
  },
  {
   "cell_type": "code",
   "execution_count": 9,
   "metadata": {
    "collapsed": true
   },
   "outputs": [],
   "source": [
    "#### John solution\n",
    "\n",
    "#dictionary of storeNumbers = {}\n",
    "\n",
    "store_distances = {}\n",
    "for row in workingResults:\n",
    "    if row[0] in store_distances:\n",
    "        store_distances[row[0]].extend(row[1:])\n",
    "    else:\n",
    "        store_distances[row[0]] = [row[1]]\n"
   ]
  },
  {
   "cell_type": "code",
   "execution_count": 8,
   "metadata": {
    "collapsed": false
   },
   "outputs": [],
   "source": [
    "#go through each id\n",
    "    #for id in uniqueIDs:\n",
    "       #go through all out distances workingResults[1] where workingResults[1] = id\n",
    "           #if workingResults[1] >100:\n",
    "              #next\n",
    "        #save uniqueID in allLessThan100 list\n",
    "\n"
   ]
  }
 ],
 "metadata": {
  "kernelspec": {
   "display_name": "Python 2",
   "language": "python",
   "name": "python2"
  },
  "language_info": {
   "codemirror_mode": {
    "name": "ipython",
    "version": 2
   },
   "file_extension": ".py",
   "mimetype": "text/x-python",
   "name": "python",
   "nbconvert_exporter": "python",
   "pygments_lexer": "ipython2",
   "version": "2.7.13"
  }
 },
 "nbformat": 4,
 "nbformat_minor": 0
}
